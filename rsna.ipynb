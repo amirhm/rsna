{
 "cells": [
  {
   "cell_type": "code",
   "execution_count": null,
   "metadata": {},
   "outputs": [],
   "source": [
    "import torch\n",
    "import numpy as np\n",
    "import glob\n",
    "import os\n",
    "import re\n",
    "import matplotlib.pyplot as plt"
   ]
  },
  {
   "cell_type": "code",
   "execution_count": null,
   "metadata": {},
   "outputs": [],
   "source": [
    "from ipywidgets import *"
   ]
  },
  {
   "cell_type": "code",
   "execution_count": null,
   "metadata": {},
   "outputs": [],
   "source": [
    "import pydicom"
   ]
  },
  {
   "cell_type": "code",
   "execution_count": null,
   "metadata": {},
   "outputs": [],
   "source": [
    "from PIL import Image"
   ]
  },
  {
   "cell_type": "code",
   "execution_count": null,
   "metadata": {},
   "outputs": [],
   "source": [
    "adr = '/media/data/rsna-miccai-brain-tumor-radiogenomic-classification/train/'"
   ]
  },
  {
   "cell_type": "code",
   "execution_count": null,
   "metadata": {},
   "outputs": [],
   "source": [
    "pid = list(map(os.path.basename, glob.glob(os.path.join(adr, '*'))))"
   ]
  },
  {
   "cell_type": "code",
   "execution_count": null,
   "metadata": {},
   "outputs": [],
   "source": [
    "flist = glob.glob(os.path.join(adr,'*/*/*'))\n",
    "flist = [re.findall('train/(.*?)\\/(.*?)\\/Image-(.*)\\.dcm', f)[0] for f in sorted(flist)]"
   ]
  },
  {
   "cell_type": "code",
   "execution_count": null,
   "metadata": {},
   "outputs": [],
   "source": [
    "data = defaultdict(lambda : defaultdict(list))"
   ]
  },
  {
   "cell_type": "code",
   "execution_count": null,
   "metadata": {},
   "outputs": [],
   "source": [
    "for pid, gname, imgid in flist:\n",
    "    data[pid][gname].append(int(imgid)) "
   ]
  },
  {
   "cell_type": "code",
   "execution_count": null,
   "metadata": {},
   "outputs": [],
   "source": [
    "for f, v in data.items():\n",
    "    for k, l in data[f].items():\n",
    "        data[f][k].sort()\n",
    "    "
   ]
  },
  {
   "cell_type": "code",
   "execution_count": null,
   "metadata": {},
   "outputs": [],
   "source": [
    "pid , gname = '00000', 'FLAIR'\n",
    "df = []\n",
    "for imgid in data[pid][gname]:\n",
    "    fname = os.path.join(adr,pid, gname, f'Image-{imgid}.dcm')\n",
    "    img = pydicom.dcmread(fname).pixel_array\n",
    "    df.append(img)\n",
    "\n",
    "images = np.array(df)\n",
    "mx = images.sum(axis=-1).sum(axis=-1)\n",
    "alldata = images[np.where(mx>0)[0]]"
   ]
  },
  {
   "cell_type": "code",
   "execution_count": null,
   "metadata": {},
   "outputs": [],
   "source": [
    "for name, item in data.items():\n",
    "    length = max(item) - min(item) + 1\n",
    "    if len(item) != length:\n",
    "        print(name)"
   ]
  },
  {
   "cell_type": "code",
   "execution_count": null,
   "metadata": {},
   "outputs": [],
   "source": [
    "dirs = ['FLAIR',  'T1w', 'T1wCE', 'T2w']"
   ]
  },
  {
   "cell_type": "code",
   "execution_count": null,
   "metadata": {},
   "outputs": [],
   "source": [
    "from collections import defaultdict\n"
   ]
  },
  {
   "cell_type": "code",
   "execution_count": null,
   "metadata": {},
   "outputs": [],
   "source": [
    "images = defaultdict()\n",
    "for d in dirs:\n",
    "    flist = glob.glob(os.path.join(adr, 'train','00000',d,'*.dcm'))\n",
    "    m = [int(re.search(\"\\d+(?=\\.\\w+$)\", f).group(0)) for f in flist]\n",
    "    print(len(m))\n",
    "    files = [os.path.join(adr, 'train','00000',d,f'Image-{id}.dcm') for id in sorted(m)]\n",
    "    df = []\n",
    "    for id in sorted(m):\n",
    "        fname = os.path.join(adr, 'train','00000',d,f'Image-{id}.dcm')\n",
    "        df.append(pydicom.dcmread(fname).pixel_array)\n",
    "    data = np.array(df)\n",
    "    mx = data.max(axis=-1).max(axis=-1)\n",
    "    images[d] = (65536 / mx[mx>0])[:,None,None] * data[mx > 0] "
   ]
  },
  {
   "cell_type": "code",
   "execution_count": null,
   "metadata": {},
   "outputs": [],
   "source": [
    "plt.plot(data[10].flatten())"
   ]
  },
  {
   "cell_type": "code",
   "execution_count": null,
   "metadata": {},
   "outputs": [],
   "source": [
    "data = images[dirs[0]]\n",
    "@interact\n",
    "def update(idx:(0,len(data)-1)):\n",
    "    im = Image.fromarray(data[idx].astype(np.uint16))\n",
    "    display(im)"
   ]
  },
  {
   "cell_type": "code",
   "execution_count": null,
   "metadata": {},
   "outputs": [],
   "source": [
    "data = images[dirs[3]]\n",
    "@interact\n",
    "def update(idx:(0,len(data)-1)):\n",
    "    im = Image.fromarray(data[idx].astype(np.uint16))\n",
    "    display(im)"
   ]
  },
  {
   "cell_type": "code",
   "execution_count": null,
   "metadata": {},
   "outputs": [],
   "source": []
  }
 ],
 "metadata": {
  "kernelspec": {
   "display_name": "Python 3.8.2 64-bit",
   "language": "python",
   "name": "python38264bitb7a2a3d4aa754f0cad9a642590e7ca9a"
  },
  "language_info": {
   "codemirror_mode": {
    "name": "ipython",
    "version": 3
   },
   "file_extension": ".py",
   "mimetype": "text/x-python",
   "name": "python",
   "nbconvert_exporter": "python",
   "pygments_lexer": "ipython3",
   "version": "3.8.10"
  }
 },
 "nbformat": 4,
 "nbformat_minor": 4
}
